{
 "cells": [
  {
   "cell_type": "code",
   "execution_count": 1,
   "metadata": {},
   "outputs": [],
   "source": [
    "import json\n",
    "from collections import defaultdict\n",
    "import csv"
   ]
  },
  {
   "cell_type": "code",
   "execution_count": 2,
   "metadata": {},
   "outputs": [],
   "source": [
    "res = dict()"
   ]
  },
  {
   "cell_type": "code",
   "execution_count": 4,
   "metadata": {},
   "outputs": [
    {
     "name": "stdout",
     "output_type": "stream",
     "text": [
      "False\n",
      "There are 237 Pole do not have location\n"
     ]
    }
   ],
   "source": [
    "import csv\n",
    "\n",
    "filename = 'datasets/location_with_poleid.csv' \n",
    "monthfile = 'datasets/2023_pid_month_revenue.csv'\n",
    "with open(filename, mode='r', encoding='utf-8') as file:\n",
    "    csv_reader = csv.reader(file)\n",
    "    next(csv_reader)\n",
    "\n",
    "    for row in csv_reader:\n",
    "        zone, area, sub_area, pole, _, _, _, latitiude, longtitude, _ = row\n",
    "        if pole not in res:\n",
    "            res[pole] = {\"Latitude\": float(latitiude),\n",
    "                        \"Longtitude\": float(longtitude),\n",
    "                        \"RevenueByMonth\": defaultdict(lambda: [0]*12),\n",
    "                        \"YearlyRevenue\": defaultdict(int),\n",
    "                        \"Others\":{\n",
    "                            \"Zone\":zone,\n",
    "                            \"Area\":area,\n",
    "                            \"SubArea\":sub_area\n",
    "                        }\n",
    "                        }\n",
    "\n",
    "# print(\"30-3400E\" in res)\n",
    "oodPoints = set()\n",
    "with open(monthfile, mode='r', encoding='utf-8') as mfile:\n",
    "    csv_reader = csv.reader(mfile)\n",
    "    next(csv_reader)\n",
    "\n",
    "    for row in csv_reader:\n",
    "        pole_id, month, sum_trans_amt, _ = row\n",
    "        sum_trans_amt = int(sum_trans_amt)\n",
    "        if pole_id not in res:\n",
    "            oodPoints.add(pole_id)\n",
    "            continue\n",
    "        # print(pole_id)\n",
    "        res[pole_id][\"RevenueByMonth\"][2023][int(month)-1] = sum_trans_amt\n",
    "        res[pole_id][\"YearlyRevenue\"][2023] += sum_trans_amt\n",
    "print(f\"There are {len(oodPoints)} Pole do not have location\")\n"
   ]
  },
  {
   "cell_type": "code",
   "execution_count": 5,
   "metadata": {},
   "outputs": [],
   "source": [
    "filename = 'my_list.json'\n",
    "\n",
    "# Writing the list to a file\n",
    "with open(filename, 'w') as file:\n",
    "    json.dump(res, file, indent=4)"
   ]
  }
 ],
 "metadata": {
  "kernelspec": {
   "display_name": "Python 3.8.9 64-bit",
   "language": "python",
   "name": "python3"
  },
  "language_info": {
   "codemirror_mode": {
    "name": "ipython",
    "version": 3
   },
   "file_extension": ".py",
   "mimetype": "text/x-python",
   "name": "python",
   "nbconvert_exporter": "python",
   "pygments_lexer": "ipython3",
   "version": "3.8.9"
  },
  "orig_nbformat": 4,
  "vscode": {
   "interpreter": {
    "hash": "31f2aee4e71d21fbe5cf8b01ff0e069b9275f58929596ceb00d14d90e3e16cd6"
   }
  }
 },
 "nbformat": 4,
 "nbformat_minor": 2
}
